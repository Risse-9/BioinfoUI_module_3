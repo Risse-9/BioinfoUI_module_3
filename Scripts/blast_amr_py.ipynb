{
 "cells": [
  {
   "cell_type": "code",
   "execution_count": 2,
   "metadata": {},
   "outputs": [],
   "source": [
    "import pandas as pd\n",
    "import matplotlib.pyplot as plt\n",
    "\n",
    "DEBUG = True"
   ]
  },
  {
   "cell_type": "code",
   "execution_count": 3,
   "metadata": {},
   "outputs": [
    {
     "name": "stdout",
     "output_type": "stream",
     "text": [
      "Loaded BLAST Data: 511 rows, 12 columns\n"
     ]
    }
   ],
   "source": [
    "# Define column names for BLAST data\n",
    "BLAST_COLUMNS = [\n",
    "    'ID', 'sseqid', 'pident', 'alignment_length', 'mismatches', \n",
    "    'gap_opens', 'q_start', 'q_end', 's_start', 's_end', \n",
    "    'evalue', 'bit_score'\n",
    "]\n",
    "\n",
    "try:\n",
    "    blast_df = pd.read_csv('combined_amr_gene_hits.txt', delimiter='\\t', header=None)\n",
    "    blast_df.columns = BLAST_COLUMNS\n",
    "    if DEBUG:\n",
    "        print(f\"Loaded BLAST Data: {blast_df.shape[0]} rows, {blast_df.shape[1]} columns\")\n",
    "except FileNotFoundError:\n",
    "    raise FileNotFoundError(\"BLAST output file 'combined_amr_gene_hits.txt' not found. Please check the file path.\")"
   ]
  },
  {
   "cell_type": "code",
   "execution_count": 4,
   "metadata": {},
   "outputs": [
    {
     "name": "stdout",
     "output_type": "stream",
     "text": [
      "Filtered Results: 462 rows remaining after filtering\n"
     ]
    }
   ],
   "source": [
    "# Filter for genes with >= 90% identity\n",
    "filtered_df = blast_df[blast_df['pident'] >= 90].copy()\n",
    "if DEBUG:\n",
    "    print(f\"Filtered Results: {filtered_df.shape[0]} rows remaining after filtering\")\n"
   ]
  },
  {
   "cell_type": "code",
   "execution_count": 5,
   "metadata": {},
   "outputs": [],
   "source": [
    "# Extract ARO_Index and Gene name from sseqid\n",
    "filtered_df['ARO_Index'] = filtered_df['sseqid'].str.extract(r'(ARO:\\d+)')\n",
    "filtered_df['Gene'] = filtered_df['sseqid'].str.extract(r'\\|ARO:\\d+\\|([^|]+)')\n",
    "\n",
    "# Keep relevant columns\n",
    "processed_df = filtered_df[['ID', 'ARO_Index', 'Gene', 'pident', 'alignment_length', \n",
    "                             'mismatches', 'gap_opens', 'q_start', 'q_end', \n",
    "                             's_start', 's_end', 'evalue', 'bit_score']]\n",
    "\n",
    "# Save filtered and processd data to a new file\n",
    "processed_df.to_csv('processed_amr_gene_hits.tsv', sep='\\t', index=False)"
   ]
  },
  {
   "cell_type": "code",
   "execution_count": null,
   "metadata": {},
   "outputs": [
    {
     "data": {
      "text/html": [
       "<div>\n",
       "<style scoped>\n",
       "    .dataframe tbody tr th:only-of-type {\n",
       "        vertical-align: middle;\n",
       "    }\n",
       "\n",
       "    .dataframe tbody tr th {\n",
       "        vertical-align: top;\n",
       "    }\n",
       "\n",
       "    .dataframe thead th {\n",
       "        text-align: right;\n",
       "    }\n",
       "</style>\n",
       "<table border=\"1\" class=\"dataframe\">\n",
       "  <thead>\n",
       "    <tr style=\"text-align: right;\">\n",
       "      <th></th>\n",
       "      <th>ID</th>\n",
       "      <th>ARO_Index</th>\n",
       "      <th>Gene</th>\n",
       "      <th>pident</th>\n",
       "      <th>alignment_length</th>\n",
       "      <th>mismatches</th>\n",
       "      <th>gap_opens</th>\n",
       "      <th>q_start</th>\n",
       "      <th>q_end</th>\n",
       "      <th>s_start</th>\n",
       "      <th>s_end</th>\n",
       "      <th>evalue</th>\n",
       "      <th>bit_score</th>\n",
       "    </tr>\n",
       "  </thead>\n",
       "  <tbody>\n",
       "    <tr>\n",
       "      <th>0</th>\n",
       "      <td>U00096.3</td>\n",
       "      <td>ARO:3000833</td>\n",
       "      <td>evgS</td>\n",
       "      <td>100.000</td>\n",
       "      <td>3594</td>\n",
       "      <td>0</td>\n",
       "      <td>0</td>\n",
       "      <td>2484374</td>\n",
       "      <td>2487967</td>\n",
       "      <td>1</td>\n",
       "      <td>3594</td>\n",
       "      <td>0.000000e+00</td>\n",
       "      <td>6637</td>\n",
       "    </tr>\n",
       "    <tr>\n",
       "      <th>1</th>\n",
       "      <td>U00096.3</td>\n",
       "      <td>ARO:3000216</td>\n",
       "      <td>acrB</td>\n",
       "      <td>100.000</td>\n",
       "      <td>3150</td>\n",
       "      <td>0</td>\n",
       "      <td>0</td>\n",
       "      <td>481254</td>\n",
       "      <td>484403</td>\n",
       "      <td>3150</td>\n",
       "      <td>1</td>\n",
       "      <td>0.000000e+00</td>\n",
       "      <td>5818</td>\n",
       "    </tr>\n",
       "    <tr>\n",
       "      <th>3</th>\n",
       "      <td>U00096.3</td>\n",
       "      <td>ARO:3000793</td>\n",
       "      <td>mdtB</td>\n",
       "      <td>100.000</td>\n",
       "      <td>3123</td>\n",
       "      <td>0</td>\n",
       "      <td>0</td>\n",
       "      <td>2155263</td>\n",
       "      <td>2158385</td>\n",
       "      <td>1</td>\n",
       "      <td>3123</td>\n",
       "      <td>0.000000e+00</td>\n",
       "      <td>5768</td>\n",
       "    </tr>\n",
       "    <tr>\n",
       "      <th>4</th>\n",
       "      <td>U00096.3</td>\n",
       "      <td>ARO:3000491</td>\n",
       "      <td>acrD</td>\n",
       "      <td>100.000</td>\n",
       "      <td>3114</td>\n",
       "      <td>0</td>\n",
       "      <td>0</td>\n",
       "      <td>2587595</td>\n",
       "      <td>2590708</td>\n",
       "      <td>1</td>\n",
       "      <td>3114</td>\n",
       "      <td>0.000000e+00</td>\n",
       "      <td>5751</td>\n",
       "    </tr>\n",
       "    <tr>\n",
       "      <th>5</th>\n",
       "      <td>U00096.3</td>\n",
       "      <td>ARO:3000796</td>\n",
       "      <td>mdtF</td>\n",
       "      <td>100.000</td>\n",
       "      <td>3114</td>\n",
       "      <td>0</td>\n",
       "      <td>0</td>\n",
       "      <td>3660414</td>\n",
       "      <td>3663527</td>\n",
       "      <td>1</td>\n",
       "      <td>3114</td>\n",
       "      <td>0.000000e+00</td>\n",
       "      <td>5751</td>\n",
       "    </tr>\n",
       "    <tr>\n",
       "      <th>...</th>\n",
       "      <td>...</td>\n",
       "      <td>...</td>\n",
       "      <td>...</td>\n",
       "      <td>...</td>\n",
       "      <td>...</td>\n",
       "      <td>...</td>\n",
       "      <td>...</td>\n",
       "      <td>...</td>\n",
       "      <td>...</td>\n",
       "      <td>...</td>\n",
       "      <td>...</td>\n",
       "      <td>...</td>\n",
       "      <td>...</td>\n",
       "    </tr>\n",
       "    <tr>\n",
       "      <th>503</th>\n",
       "      <td>CP024140.1</td>\n",
       "      <td>ARO:3000980</td>\n",
       "      <td>TEM-117</td>\n",
       "      <td>99.606</td>\n",
       "      <td>762</td>\n",
       "      <td>3</td>\n",
       "      <td>0</td>\n",
       "      <td>63687</td>\n",
       "      <td>64448</td>\n",
       "      <td>762</td>\n",
       "      <td>1</td>\n",
       "      <td>0.000000e+00</td>\n",
       "      <td>1391</td>\n",
       "    </tr>\n",
       "    <tr>\n",
       "      <th>504</th>\n",
       "      <td>CP024140.1</td>\n",
       "      <td>ARO:3001052</td>\n",
       "      <td>TEM-192</td>\n",
       "      <td>99.602</td>\n",
       "      <td>753</td>\n",
       "      <td>3</td>\n",
       "      <td>0</td>\n",
       "      <td>63702</td>\n",
       "      <td>64454</td>\n",
       "      <td>753</td>\n",
       "      <td>1</td>\n",
       "      <td>0.000000e+00</td>\n",
       "      <td>1375</td>\n",
       "    </tr>\n",
       "    <tr>\n",
       "      <th>506</th>\n",
       "      <td>CP024140.1</td>\n",
       "      <td>ARO:3002859</td>\n",
       "      <td>dfrA14</td>\n",
       "      <td>100.000</td>\n",
       "      <td>474</td>\n",
       "      <td>0</td>\n",
       "      <td>0</td>\n",
       "      <td>45703</td>\n",
       "      <td>46176</td>\n",
       "      <td>474</td>\n",
       "      <td>1</td>\n",
       "      <td>0.000000e+00</td>\n",
       "      <td>876</td>\n",
       "    </tr>\n",
       "    <tr>\n",
       "      <th>509</th>\n",
       "      <td>CP024140.1</td>\n",
       "      <td>ARO:3002578</td>\n",
       "      <td>AAC(6')-Ib7</td>\n",
       "      <td>100.000</td>\n",
       "      <td>210</td>\n",
       "      <td>0</td>\n",
       "      <td>0</td>\n",
       "      <td>46193</td>\n",
       "      <td>46402</td>\n",
       "      <td>210</td>\n",
       "      <td>1</td>\n",
       "      <td>6.320000e-106</td>\n",
       "      <td>388</td>\n",
       "    </tr>\n",
       "    <tr>\n",
       "      <th>510</th>\n",
       "      <td>CP024140.1</td>\n",
       "      <td>ARO:3002578</td>\n",
       "      <td>AAC(6')-Ib7</td>\n",
       "      <td>99.522</td>\n",
       "      <td>209</td>\n",
       "      <td>1</td>\n",
       "      <td>0</td>\n",
       "      <td>50088</td>\n",
       "      <td>50296</td>\n",
       "      <td>1</td>\n",
       "      <td>209</td>\n",
       "      <td>1.060000e-103</td>\n",
       "      <td>381</td>\n",
       "    </tr>\n",
       "  </tbody>\n",
       "</table>\n",
       "<p>462 rows × 13 columns</p>\n",
       "</div>"
      ],
      "text/plain": [
       "             ID    ARO_Index         Gene   pident  alignment_length  \\\n",
       "0      U00096.3  ARO:3000833         evgS  100.000              3594   \n",
       "1      U00096.3  ARO:3000216         acrB  100.000              3150   \n",
       "3      U00096.3  ARO:3000793         mdtB  100.000              3123   \n",
       "4      U00096.3  ARO:3000491         acrD  100.000              3114   \n",
       "5      U00096.3  ARO:3000796         mdtF  100.000              3114   \n",
       "..          ...          ...          ...      ...               ...   \n",
       "503  CP024140.1  ARO:3000980      TEM-117   99.606               762   \n",
       "504  CP024140.1  ARO:3001052      TEM-192   99.602               753   \n",
       "506  CP024140.1  ARO:3002859       dfrA14  100.000               474   \n",
       "509  CP024140.1  ARO:3002578  AAC(6')-Ib7  100.000               210   \n",
       "510  CP024140.1  ARO:3002578  AAC(6')-Ib7   99.522               209   \n",
       "\n",
       "     mismatches  gap_opens  q_start    q_end  s_start  s_end         evalue  \\\n",
       "0             0          0  2484374  2487967        1   3594   0.000000e+00   \n",
       "1             0          0   481254   484403     3150      1   0.000000e+00   \n",
       "3             0          0  2155263  2158385        1   3123   0.000000e+00   \n",
       "4             0          0  2587595  2590708        1   3114   0.000000e+00   \n",
       "5             0          0  3660414  3663527        1   3114   0.000000e+00   \n",
       "..          ...        ...      ...      ...      ...    ...            ...   \n",
       "503           3          0    63687    64448      762      1   0.000000e+00   \n",
       "504           3          0    63702    64454      753      1   0.000000e+00   \n",
       "506           0          0    45703    46176      474      1   0.000000e+00   \n",
       "509           0          0    46193    46402      210      1  6.320000e-106   \n",
       "510           1          0    50088    50296        1    209  1.060000e-103   \n",
       "\n",
       "     bit_score  \n",
       "0         6637  \n",
       "1         5818  \n",
       "3         5768  \n",
       "4         5751  \n",
       "5         5751  \n",
       "..         ...  \n",
       "503       1391  \n",
       "504       1375  \n",
       "506        876  \n",
       "509        388  \n",
       "510        381  \n",
       "\n",
       "[462 rows x 13 columns]"
      ]
     },
     "execution_count": 6,
     "metadata": {},
     "output_type": "execute_result"
    }
   ],
   "source": [
    "processed_df"
   ]
  },
  {
   "cell_type": "markdown",
   "metadata": {},
   "source": [
    "# CLassifying AMR Gene"
   ]
  },
  {
   "cell_type": "code",
   "execution_count": 7,
   "metadata": {},
   "outputs": [
    {
     "data": {
      "text/plain": [
       "(16836, 6)"
      ]
     },
     "execution_count": 7,
     "metadata": {},
     "output_type": "execute_result"
    }
   ],
   "source": [
    "# Load reference tables\n",
    "try:\n",
    "    ref_df = pd.read_csv('aro_categories_index.tsv', delimiter='\\t')\n",
    "    ref2_df = pd.read_csv('aro_index.tsv', delimiter='\\t')\n",
    "except FileNotFoundError as e:\n",
    "    raise FileNotFoundError(f\"Reference file not found: {e.filename}\")\n",
    "\n",
    "# Merge reference tables\n",
    "ref2_df = ref2_df[['DNA Accession', 'CARD Short Name']]\n",
    "merged_refs_df = pd.merge(ref_df, ref2_df, how='inner', on='DNA Accession')\n",
    "merged_refs_df.shape\n"
   ]
  },
  {
   "cell_type": "code",
   "execution_count": 8,
   "metadata": {},
   "outputs": [],
   "source": [
    "# Merge processed data with reference data\n",
    "merged_ref_processed_df = pd.merge(processed_df, merged_refs_df, how='left', left_on='Gene', right_on='CARD Short Name')\n",
    "\n",
    "# Remove NaN values and sort by AMR Gene Family\n",
    "merged_ref_processed_df = merged_ref_processed_df.dropna()\n",
    "merged_ref_processed_df = merged_ref_processed_df.sort_values(by=['AMR Gene Family'], ascending=True)"
   ]
  },
  {
   "cell_type": "code",
   "execution_count": 9,
   "metadata": {},
   "outputs": [
    {
     "data": {
      "text/plain": [
       "ID                  0.0\n",
       "AMR Gene Family     0.0\n",
       "Resistance Class    0.0\n",
       "Gene Variant        0.0\n",
       "dtype: float64"
      ]
     },
     "execution_count": 9,
     "metadata": {},
     "output_type": "execute_result"
    }
   ],
   "source": [
    "# Retain columns required, drop others\n",
    "final_df = merged_ref_processed_df[['ID', 'AMR Gene Family', 'Drug Class', 'Gene']]\n",
    "\n",
    "# Remove duplicates and save the final classified data\n",
    "final_df = final_df.drop_duplicates()\n",
    "final_df.rename(columns={'Gene': 'Gene Variant', 'Drug Class': 'Resistance Class'}, inplace=True)\n",
    "final_df.to_excel('classified_amr_gene_hit.xlsx', index=False)\n",
    "final_df.shape\n",
    "# Check for missing data\n",
    "missing_data_percentage = final_df.isnull().mean() * 100\n",
    "missing_data_percentage\n"
   ]
  },
  {
   "cell_type": "code",
   "execution_count": 10,
   "metadata": {},
   "outputs": [
    {
     "name": "stdout",
     "output_type": "stream",
     "text": [
      "Histogram saved as 'pident_distribution.png'\n"
     ]
    },
    {
     "data": {
      "image/png": "[encoded data removed]",
      "text/plain": [
       "<Figure size 640x480 with 1 Axes>"
      ]
     },
     "metadata": {},
     "output_type": "display_data"
    }
   ],
   "source": [
    "# Visualize Distribution of % identity\n",
    "processed_df['pident'].hist(bins=20, color='blue', edgecolor='black')\n",
    "plt.title('Distribution of Percentage Identity')\n",
    "plt.xlabel('% Identity')\n",
    "plt.ylabel('Frequency')\n",
    "plt.grid(True, linestyle='--')\n",
    "plt.savefig('pident_distribution.png', dpi=300)\n",
    "if DEBUG:\n",
    "    print(\"Histogram saved as 'pident_distribution.png'\")\n",
    "plt.show()\n"
   ]
  },
  {
   "cell_type": "code",
   "execution_count": null,
   "metadata": {},
   "outputs": [],
   "source": []
  },
  {
   "cell_type": "code",
   "execution_count": null,
   "metadata": {},
   "outputs": [],
   "source": []
  }
 ],
 "metadata": {
  "kernelspec": {
   "display_name": "base",
   "language": "python",
   "name": "python3"
  },
  "language_info": {
   "codemirror_mode": {
    "name": "ipython",
    "version": 3
   },
   "file_extension": ".py",
   "mimetype": "text/x-python",
   "name": "python",
   "nbconvert_exporter": "python",
   "pygments_lexer": "ipython3",
   "version": "3.11.7"
  }
 },
 "nbformat": 4,
 "nbformat_minor": 2
}
